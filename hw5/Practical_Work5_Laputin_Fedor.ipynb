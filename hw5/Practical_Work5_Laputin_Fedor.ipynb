{
 "cells": [
  {
   "cell_type": "markdown",
   "metadata": {},
   "source": [
    "Ex.1 TextRank"
   ]
  },
  {
   "cell_type": "code",
   "execution_count": 1,
   "metadata": {},
   "outputs": [
    {
     "name": "stderr",
     "output_type": "stream",
     "text": [
      "[nltk_data] Downloading package stopwords to\n",
      "[nltk_data]     /Users/falaputin2/nltk_data...\n",
      "[nltk_data]   Package stopwords is already up-to-date!\n"
     ]
    }
   ],
   "source": [
    "import string\n",
    "import pandas as pd\n",
    "import numpy as np\n",
    "from sklearn.metrics.pairwise import cosine_similarity\n",
    "import networkx as nx\n",
    "import re\n",
    "import nltk\n",
    "from nltk.corpus import stopwords\n",
    "from nltk.tokenize import sent_tokenize, word_tokenize\n",
    "import contractions\n",
    "\n",
    "nltk.download(\"stopwords\")\n",
    "stop_words = stopwords.words(\"english\")"
   ]
  },
  {
   "cell_type": "code",
   "execution_count": 2,
   "metadata": {},
   "outputs": [
    {
     "name": "stdout",
     "output_type": "stream",
     "text": [
      "Loading Glove Model\n",
      "Loaded 400000 words\n"
     ]
    }
   ],
   "source": [
    "def load_glove_vectors(fn):\n",
    "    print(\"Loading Glove Model\")\n",
    "    with open(fn, \"r\", encoding=\"utf8\") as glove_vector_file:\n",
    "        model = {}\n",
    "        for line in glove_vector_file:\n",
    "            parts = line.split()\n",
    "            word = parts[0]\n",
    "            embedding = np.array([float(val) for val in parts[1:]])\n",
    "            model[word] = embedding\n",
    "        print(\"Loaded {} words\".format(len(model)))\n",
    "    return model\n",
    "\n",
    "\n",
    "glove_vectors = load_glove_vectors(\"glove.6B.50d.txt\")"
   ]
  },
  {
   "cell_type": "code",
   "execution_count": 3,
   "metadata": {},
   "outputs": [
    {
     "data": {
      "text/html": [
       "<div>\n",
       "<style scoped>\n",
       "    .dataframe tbody tr th:only-of-type {\n",
       "        vertical-align: middle;\n",
       "    }\n",
       "\n",
       "    .dataframe tbody tr th {\n",
       "        vertical-align: top;\n",
       "    }\n",
       "\n",
       "    .dataframe thead th {\n",
       "        text-align: right;\n",
       "    }\n",
       "</style>\n",
       "<table border=\"1\" class=\"dataframe\">\n",
       "  <thead>\n",
       "    <tr style=\"text-align: right;\">\n",
       "      <th></th>\n",
       "      <th>SentencesInArticle</th>\n",
       "      <th>WordsInSentences</th>\n",
       "    </tr>\n",
       "  </thead>\n",
       "  <tbody>\n",
       "    <tr>\n",
       "      <th>0</th>\n",
       "      <td>[Humraaz () is a 2002 Indian Hindi-language mu...</td>\n",
       "      <td>[[humraaz, is, a, indian, hindilanguage, music...</td>\n",
       "    </tr>\n",
       "    <tr>\n",
       "      <th>1</th>\n",
       "      <td>[Yehoshua Glazer (29 December 1927 - 29 Decemb...</td>\n",
       "      <td>[[yehoshua, glazer, december, december, was, a...</td>\n",
       "    </tr>\n",
       "    <tr>\n",
       "      <th>2</th>\n",
       "      <td>[On 27 October 2018, an AgustaWestland AW169 h...</td>\n",
       "      <td>[[on, october, an, agustawestland, aw, helicop...</td>\n",
       "    </tr>\n",
       "    <tr>\n",
       "      <th>3</th>\n",
       "      <td>[Randolph County is a county in the U.S. state...</td>\n",
       "      <td>[[randolph, county, is, a, county, in, the, yo...</td>\n",
       "    </tr>\n",
       "    <tr>\n",
       "      <th>4</th>\n",
       "      <td>[The Real Adventures of Jonny Quest is an Amer...</td>\n",
       "      <td>[[the, real, adventures, of, jonny, quest, is,...</td>\n",
       "    </tr>\n",
       "  </tbody>\n",
       "</table>\n",
       "</div>"
      ],
      "text/plain": [
       "                                  SentencesInArticle  \\\n",
       "0  [Humraaz () is a 2002 Indian Hindi-language mu...   \n",
       "1  [Yehoshua Glazer (29 December 1927 - 29 Decemb...   \n",
       "2  [On 27 October 2018, an AgustaWestland AW169 h...   \n",
       "3  [Randolph County is a county in the U.S. state...   \n",
       "4  [The Real Adventures of Jonny Quest is an Amer...   \n",
       "\n",
       "                                    WordsInSentences  \n",
       "0  [[humraaz, is, a, indian, hindilanguage, music...  \n",
       "1  [[yehoshua, glazer, december, december, was, a...  \n",
       "2  [[on, october, an, agustawestland, aw, helicop...  \n",
       "3  [[randolph, county, is, a, county, in, the, yo...  \n",
       "4  [[the, real, adventures, of, jonny, quest, is,...  "
      ]
     },
     "execution_count": 3,
     "metadata": {},
     "output_type": "execute_result"
    }
   ],
   "source": [
    "articles = (\n",
    "    pd.read_csv(\"./small_wikidump.csv\")\n",
    "    .sample(10, random_state=42)\n",
    "    .reset_index(drop=True)\n",
    ")\n",
    "CLEAN_PATTERN = r\"[^a-zA-z\\s]\"\n",
    "\n",
    "\n",
    "def clean(word):\n",
    "    return re.sub(CLEAN_PATTERN, \"\", word)\n",
    "\n",
    "\n",
    "def clean_sentence(sentence):\n",
    "    sentence = [clean(word) for word in sentence]\n",
    "    if len(sentence) == 0:\n",
    "        print(\"empty\")\n",
    "        sentence = [\"PAD\"]\n",
    "    return [word for word in sentence if word]\n",
    "\n",
    "\n",
    "def clean_sentences(sentences):\n",
    "    return [clean_sentence(sentence) for sentence in sentences]\n",
    "\n",
    "\n",
    "def lower(sentence):\n",
    "    return [word.lower() for word in sentence]\n",
    "\n",
    "\n",
    "def remove_stopwords(sentence):\n",
    "    words = [word for word in sentence if word not in stop_words]\n",
    "    return [word for word in words if len(word) > 0]\n",
    "\n",
    "\n",
    "def tokenize_words(sentences):\n",
    "    return [word_tokenize(sentence) for sentence in sentences]\n",
    "\n",
    "\n",
    "def fix_contractions(sentences):\n",
    "    return [contractions.fix(sentence) for sentence in sentences]\n",
    "\n",
    "\n",
    "def remove_n(text):\n",
    "    return text.replace(\"\\n\", \" \")\n",
    "\n",
    "\n",
    "def pad_empty(word_senteces):\n",
    "    new_word_sentences = []\n",
    "    for word_sentece in word_senteces:\n",
    "        if len(word_sentece) == 0:\n",
    "            new_word_sentences.append([\"PAD\"])\n",
    "        else:\n",
    "            new_word_sentences.append(word_sentece)\n",
    "    return new_word_sentences\n",
    "\n",
    "\n",
    "articles[\"text\"] = articles.text.apply(remove_n)\n",
    "articles[\"SentencesInArticle\"] = articles.text.apply(sent_tokenize)\n",
    "articles[\"WordsInSentences\"] = (\n",
    "    articles.SentencesInArticle.apply(fix_contractions)\n",
    "    .apply(lower)\n",
    "    .apply(tokenize_words)\n",
    "    .apply(remove_stopwords)\n",
    "    .apply(clean_sentences)\n",
    ")\n",
    "\n",
    "articles[\"WordsInSentences\"] = articles[\"WordsInSentences\"].apply(pad_empty)\n",
    "articles = articles[[\"SentencesInArticle\", \"WordsInSentences\"]]\n",
    "articles.head()"
   ]
  },
  {
   "cell_type": "code",
   "execution_count": 4,
   "metadata": {},
   "outputs": [],
   "source": [
    "VECTOR_SIZE = 50\n",
    "EMPTY_VECTOR = np.zeros(VECTOR_SIZE)\n",
    "\n",
    "\n",
    "def sentence_vector(sentence):\n",
    "    return sum([glove_vectors.get(word, EMPTY_VECTOR) for word in sentence]) / len(\n",
    "        sentence\n",
    "    )\n",
    "\n",
    "\n",
    "def sentences_to_vectors(sentences):\n",
    "    return [sentence_vector(sentence) for sentence in sentences]\n",
    "\n",
    "\n",
    "def similarity_matrix(sentence_vectors):\n",
    "    sim_mat = np.zeros([len(sentence_vectors), len(sentence_vectors)])\n",
    "    for i in range(len(sentence_vectors)):\n",
    "        for j in range(len(sentence_vectors)):\n",
    "            element_i = sentence_vectors[i].reshape(1, VECTOR_SIZE)\n",
    "            element_j = sentence_vectors[j].reshape(1, VECTOR_SIZE)\n",
    "            sim_mat[i][j] = cosine_similarity(element_i, element_j)[0, 0]\n",
    "    return sim_mat\n",
    "\n",
    "\n",
    "def compute_graph(sim_matrix):\n",
    "    nx_graph = nx.from_numpy_array(sim_matrix)\n",
    "    scores = nx.pagerank(nx_graph)\n",
    "    return scores\n",
    "\n",
    "\n",
    "articles[\"SentenceVector\"] = articles.WordsInSentences.apply(sentences_to_vectors)\n",
    "articles[\"SimMatrix\"] = articles.SentenceVector.apply(similarity_matrix)\n",
    "articles[\"Graph\"] = articles.SimMatrix.apply(compute_graph)"
   ]
  },
  {
   "cell_type": "code",
   "execution_count": 5,
   "metadata": {},
   "outputs": [],
   "source": [
    "def get_ranked_sentences(sentences, scores, n=3):\n",
    "    top_scores = sorted(((scores[i], s) for i, s in enumerate(sentences)), reverse=True)\n",
    "    top_n_sentences = [sentence for score, sentence in top_scores[:n]]\n",
    "    return \" \".join(top_n_sentences)\n",
    "\n",
    "\n",
    "articles[\"Summary\"] = articles.apply(\n",
    "    lambda d: get_ranked_sentences(d.SentencesInArticle, d.Graph), axis=1\n",
    ")"
   ]
  },
  {
   "cell_type": "code",
   "execution_count": 8,
   "metadata": {},
   "outputs": [
    {
     "name": "stdout",
     "output_type": "stream",
     "text": [
      "The film is loosely based on the 1998 film A Perfect Murder. Humraaz () is a 2002 Indian Hindi-language musical romantic thriller film directed by the duo Abbas-Mustan. This film received positive reviews and was extremely successful at the box office.\n",
      "He was born in Tel Aviv. Glazer died on his 91st birthday on 29 December 2018 in Tel Aviv. He played for Maccabi Tel Aviv and for the Israel national football team his entire career.\n",
      "Club owner Vichai Srivaddhanaprabha was on board, as well as two other passengers and two pilots. On 27 October 2018, an AgustaWestland AW169 helicopter crashed shortly after take-off from the King Power Stadium, the home ground of Leicester City in Leicester, United Kingdom. The Air Accidents Investigation Branch is currently leading an investigation into the accident.\n"
     ]
    }
   ],
   "source": [
    "for i in range(3):\n",
    "    print(articles.loc[i].Summary)"
   ]
  },
  {
   "cell_type": "markdown",
   "metadata": {},
   "source": [
    "Ex2. Word Frequency Text Summarization"
   ]
  },
  {
   "cell_type": "code",
   "execution_count": 3,
   "metadata": {},
   "outputs": [
    {
     "name": "stderr",
     "output_type": "stream",
     "text": [
      "[nltk_data] Downloading package punkt to\n",
      "[nltk_data]     /Users/falaputin2/nltk_data...\n",
      "[nltk_data]   Package punkt is already up-to-date!\n",
      "[nltk_data] Downloading package stopwords to\n",
      "[nltk_data]     /Users/falaputin2/nltk_data...\n",
      "[nltk_data]   Package stopwords is already up-to-date!\n"
     ]
    }
   ],
   "source": [
    "import re\n",
    "import nltk\n",
    "from collections import Counter\n",
    "import string\n",
    "import pandas as pd\n",
    "\n",
    "nltk.download(\"punkt\")\n",
    "nltk.download(\"stopwords\")\n",
    "from nltk.corpus import stopwords\n",
    "from nltk.tokenize import word_tokenize, sent_tokenize"
   ]
  },
  {
   "cell_type": "code",
   "execution_count": 4,
   "metadata": {},
   "outputs": [],
   "source": [
    "articles = (\n",
    "    pd.read_csv(\"./small_wikidump.csv\")\n",
    "    .sample(10, random_state=42)\n",
    "    .reset_index(drop=True)\n",
    ")\n",
    "CLEAN_PATTERN = r\"[^a-zA-z\\s]\"\n",
    "\n",
    "\n",
    "def clean(word):\n",
    "    return re.sub(CLEAN_PATTERN, \"\", word)\n",
    "\n",
    "\n",
    "def clean_sentence(sentence):\n",
    "    sentence = [clean(word) for word in sentence]\n",
    "    if len(sentence) == 0:\n",
    "        print(\"empty\")\n",
    "        sentence = [\"PAD\"]\n",
    "    return [word for word in sentence if word]\n",
    "\n",
    "\n",
    "def clean_sentences(sentences):\n",
    "    return [clean_sentence(sentence) for sentence in sentences]\n",
    "\n",
    "\n",
    "def lower(sentence):\n",
    "    return [word.lower() for word in sentence]\n",
    "\n",
    "\n",
    "def remove_stopwords(sentence):\n",
    "    words = [word for word in sentence if word not in stop_words]\n",
    "    return [word for word in words if len(word) > 0]\n",
    "\n",
    "\n",
    "def tokenize_words(sentences):\n",
    "    return [word_tokenize(sentence) for sentence in sentences]\n",
    "\n",
    "\n",
    "def fix_contractions(sentences):\n",
    "    return [contractions.fix(sentence) for sentence in sentences]\n",
    "\n",
    "\n",
    "def remove_n(text):\n",
    "    return text.replace(\"\\n\", \" \")\n",
    "\n",
    "\n",
    "def pad_empty(word_senteces):\n",
    "    new_word_sentences = []\n",
    "    for word_sentece in word_senteces:\n",
    "        if len(word_sentece) == 0:\n",
    "            new_word_sentences.append([\"PAD\"])\n",
    "        else:\n",
    "            new_word_sentences.append(word_sentece)\n",
    "    return new_word_sentences\n",
    "\n",
    "\n",
    "articles[\"text\"] = articles.text.apply(remove_n)"
   ]
  },
  {
   "cell_type": "code",
   "execution_count": 16,
   "metadata": {},
   "outputs": [],
   "source": [
    "def preprocess_text(text):\n",
    "    stop_words = set(stopwords.words(\"english\"))\n",
    "    words = word_tokenize(text)\n",
    "    words = [word.lower() for word in words if word.isalpha()]\n",
    "    words = [word for word in words if word not in stop_words]\n",
    "    return words\n",
    "\n",
    "\n",
    "def word_frequencies(texts):\n",
    "    all_words = []\n",
    "    for text in texts:\n",
    "        words = preprocess_text(text)\n",
    "        all_words.extend(words)\n",
    "    frequency = Counter(all_words)\n",
    "    max_freq = frequency.most_common(1)[0][1]  # find most common frequence\n",
    "    word_freq = {word: freq / max_freq for word, freq in frequency.items()}\n",
    "    return word_freq\n",
    "\n",
    "\n",
    "def filter_frequencies(word_freq, min_prop=0.1, max_prop=0.9):\n",
    "    filtered_words = {\n",
    "        word: freq for word, freq in word_freq.items() if min_prop <= freq <= max_prop\n",
    "    }\n",
    "    return filtered_words\n",
    "\n",
    "\n",
    "def summarize_text(text, word_freq, top_n=1):\n",
    "    sentences = sent_tokenize(text)\n",
    "    sentence_scores = {}\n",
    "    for sentence in sentences:\n",
    "        words = preprocess_text(sentence)\n",
    "        score = sum(word_freq.get(word, 0) for word in words)\n",
    "        sentence_scores[sentence] = score\n",
    "    top_sentences = sorted(sentence_scores, key=sentence_scores.get, reverse=True)[\n",
    "        :top_n\n",
    "    ]\n",
    "    return top_sentences\n",
    "\n",
    "\n",
    "texts = articles.loc[[9, 8, 5]][\"text\"]\n",
    "word_freq = word_frequencies(texts)\n",
    "filtered_words = filter_frequencies(word_freq, min_prop=0.1, max_prop=0.9)"
   ]
  },
  {
   "cell_type": "code",
   "execution_count": 17,
   "metadata": {},
   "outputs": [
    {
     "name": "stdout",
     "output_type": "stream",
     "text": [
      "Original Text: The economy of the USA grew quickly in the 1920s. This growth in the 1920s had a positive effect on the USA in later years. The country's main commercial rivals had been devastated by WWI which was fought almost entirely in Europe. Germany, Britain, France, and the Low Countries were all economically weakened. Natural resources and a growing population The USA has many natural resources. For example, there is oil in Texas, coal in the Appalachian Mountains, and ranching in the Midwest and Great Plains. This meant there was no need to buy natural resources from other countries. Moreover the population of the USA was growing fast, so making a market for natural resources inside the USA. Below is a table in which the population growth in millions is shown in the 40 years after the 1920s: Below is a table which shows the urban growth in the six largest cities by population, in 1870 and 1910: The First World War During the First World War, the USA was selling metal to Britain and France, and also weapons. The USA made a lot of money from this. Also, the USA took over Europe's international trade and became the world leader in manufacturing of chemical, explosives, and plastics. This was good for the US economy. However, the Spanish flu was worldwide, and affected all countries. Spanish flu The Spanish flu pandemic lasted from 1918 to 1920. It killed between 17 million and 100 million people. Symptoms in 1918 were so unusual that initially influenza was misdiagnosed as dengue, cholera, or typhoid. One observer wrote \"One of the most striking of the complications was haemorhage from mucous membranes, especially from the nose, stomach, and intestine\". Most deaths were from bacterial pneumonia, a secondary infection caused by influenza. The virus also killed people directly. It caused hemorrhages and oedema in the lungs. The Spanish flu pandemic was truly global, spreading even to the Arctic and remote Pacific islands. The unusually severe disease killed between 10 and 20% of those infected, as opposed to the more usual flu epidemic mortality rate of 0.1%. Republican Party Policies The Republican Party at the time had policies which were very useful for a large economic growth: 1. The Republicans had a 'laissez-faire' way of thinking, which meant that the government would not stand in the way of people's lives and businesses. The Republican Party believed that this would create much profit, and it did. 2. The Republicans made 'tariffs', which meant that it cost a lot of money to buy products from other countries. This protected American businessmen from foreign competition. This also made the American people buy American-made products. 3. The Republicans lowered taxes, which was good for normal people, and even better for rich people. The Republican Party believed that low taxes would make people keep their money and spend it on American-made products and put money into American industries. 4. The Republicans allowed 'trusts'. Trusts were very large corporations, or businesses, which controlled almost all of a certain industry. Many people did not like these trusts as they did not want one corporation to control an entire industry, but the Republican Party said that a corporation would do business better than a politician. These trusts were very important in causing this economic growth. There were also problems with the policies. During the 1920s, much of the wealth in the United States was controlled by only a few people. Also, farmers and other people who worked in the business of farming found it very difficult to make money and were therefore very poor. New industries, new methods There were new industries, and new ways of managing industries. For example, products such as telephones, radios, vacuum cleaners, washing machines, and others were being made on a large scale, at an affordable price. Effective advertising was also invented for many products. One large industry in the 1920s was the motorcar industry. They was made on a production line, which was a relatively new idea at the time. The idea was first developed in the steel industry, and adopted by Henry Ford for his car industry. By the year 1929, 4.8 million cars had been made. Hoover (vacuum cleaners) became a household name. The biggest growth was in radios. In 1920, there were 60,000 radios sold. By 1929, it was 10 million. The 20s decade saw the large-scale development and use of automobiles, telephones, films, radio, and electrical appliances in the lives of millions in the United States. Most of Western Europe followed these events, but their economies were so damaged by WWI. It was many years (in effect, the 1960s and 70s) before ordinary people got telephones in their own homes. The American way of life At the time, most Americans believed that they deserved success. For example; a nice house, a good job, plenty to eat, and many consumer goods. The act of 'consuming' was seen as very American, this had a huge impact on powering economic growth in the 1920s. References GCSE Modern World History Second Edition - Ben Walsh 1920s in the United States Economy of the United States\n",
      "Summarized Text: ['Below is a table in which the population growth in millions is shown in the 40 years after the 1920s: Below is a table which shows the urban growth in the six largest cities by population, in 1870 and 1910: The First World War During the First World War, the USA was selling metal to Britain and France, and also weapons.']\n",
      "\n",
      "Original Text: The Tata Institute of Fundamental Research (TIFR) is a research organization in India. It is for studies in mathematics and science. It is located in Mumbai. TIFR was started by Jenhangir Ratanji Dadabhoy Tata. It is now government funded. This institute has various departments like physics, chemistry, astronomy, and mathematics. One of its founding members was physicist Homi Bhabha. It was inaugurated by Prime Minister Sri Jawaharlal Nehru. Professors in this organization are recruited from institutes including the Illinois Institute of Technology. References Research organizations in Asia Mumbai 1945 establishments in Asia 1940s establishments in India Organizations based in India\n",
      "Summarized Text: ['References Research organizations in Asia Mumbai 1945 establishments in Asia 1940s establishments in India Organizations based in India']\n",
      "\n",
      "Original Text: Brian Patrick Wilson (born March 16, 1982) is an American baseball player. He was born in Winchester, Massachusetts and grew up in Londonderry, New Hampshire. He played college baseball at Louisiana State University. He was drafted by the San Francisco Giants in 2003 and has played his whole career in the Giants system. He started playing with the Giants in 2006 and became their closer (a pitcher who pitches the ninth inning of the game) in 2008. He has been named an All-Star three times in 2008, 2010 and 2011. In the 2010 season, he starting growing a beard, which he kept after the Giants won the World Series. He led the league in saves in 2010. In 2011, he started slowly, but had 25 saves and six wins before the All-Star break. Due to his beard and his personality, Wilson appeared on many talk shows and commercials, including for MLB 2K11. 1982 births Living people Sportspeople from New Hampshire San Francisco Giants players National League All-Stars People from Winchester, Massachusetts Sportspeople from Massachusetts\n",
      "Summarized Text: ['1982 births Living people Sportspeople from New Hampshire San Francisco Giants players National League All-Stars People from Winchester, Massachusetts Sportspeople from Massachusetts']\n",
      "\n"
     ]
    }
   ],
   "source": [
    "# Top 1\n",
    "for text in texts:\n",
    "    summary = summarize_text(text, filtered_words, top_n=1)\n",
    "    print(\"Original Text:\", text)\n",
    "    print(\"Summarized Text:\", summary)\n",
    "    print()"
   ]
  },
  {
   "cell_type": "code",
   "execution_count": 18,
   "metadata": {},
   "outputs": [
    {
     "name": "stdout",
     "output_type": "stream",
     "text": [
      "Original Text: The economy of the USA grew quickly in the 1920s. This growth in the 1920s had a positive effect on the USA in later years. The country's main commercial rivals had been devastated by WWI which was fought almost entirely in Europe. Germany, Britain, France, and the Low Countries were all economically weakened. Natural resources and a growing population The USA has many natural resources. For example, there is oil in Texas, coal in the Appalachian Mountains, and ranching in the Midwest and Great Plains. This meant there was no need to buy natural resources from other countries. Moreover the population of the USA was growing fast, so making a market for natural resources inside the USA. Below is a table in which the population growth in millions is shown in the 40 years after the 1920s: Below is a table which shows the urban growth in the six largest cities by population, in 1870 and 1910: The First World War During the First World War, the USA was selling metal to Britain and France, and also weapons. The USA made a lot of money from this. Also, the USA took over Europe's international trade and became the world leader in manufacturing of chemical, explosives, and plastics. This was good for the US economy. However, the Spanish flu was worldwide, and affected all countries. Spanish flu The Spanish flu pandemic lasted from 1918 to 1920. It killed between 17 million and 100 million people. Symptoms in 1918 were so unusual that initially influenza was misdiagnosed as dengue, cholera, or typhoid. One observer wrote \"One of the most striking of the complications was haemorhage from mucous membranes, especially from the nose, stomach, and intestine\". Most deaths were from bacterial pneumonia, a secondary infection caused by influenza. The virus also killed people directly. It caused hemorrhages and oedema in the lungs. The Spanish flu pandemic was truly global, spreading even to the Arctic and remote Pacific islands. The unusually severe disease killed between 10 and 20% of those infected, as opposed to the more usual flu epidemic mortality rate of 0.1%. Republican Party Policies The Republican Party at the time had policies which were very useful for a large economic growth: 1. The Republicans had a 'laissez-faire' way of thinking, which meant that the government would not stand in the way of people's lives and businesses. The Republican Party believed that this would create much profit, and it did. 2. The Republicans made 'tariffs', which meant that it cost a lot of money to buy products from other countries. This protected American businessmen from foreign competition. This also made the American people buy American-made products. 3. The Republicans lowered taxes, which was good for normal people, and even better for rich people. The Republican Party believed that low taxes would make people keep their money and spend it on American-made products and put money into American industries. 4. The Republicans allowed 'trusts'. Trusts were very large corporations, or businesses, which controlled almost all of a certain industry. Many people did not like these trusts as they did not want one corporation to control an entire industry, but the Republican Party said that a corporation would do business better than a politician. These trusts were very important in causing this economic growth. There were also problems with the policies. During the 1920s, much of the wealth in the United States was controlled by only a few people. Also, farmers and other people who worked in the business of farming found it very difficult to make money and were therefore very poor. New industries, new methods There were new industries, and new ways of managing industries. For example, products such as telephones, radios, vacuum cleaners, washing machines, and others were being made on a large scale, at an affordable price. Effective advertising was also invented for many products. One large industry in the 1920s was the motorcar industry. They was made on a production line, which was a relatively new idea at the time. The idea was first developed in the steel industry, and adopted by Henry Ford for his car industry. By the year 1929, 4.8 million cars had been made. Hoover (vacuum cleaners) became a household name. The biggest growth was in radios. In 1920, there were 60,000 radios sold. By 1929, it was 10 million. The 20s decade saw the large-scale development and use of automobiles, telephones, films, radio, and electrical appliances in the lives of millions in the United States. Most of Western Europe followed these events, but their economies were so damaged by WWI. It was many years (in effect, the 1960s and 70s) before ordinary people got telephones in their own homes. The American way of life At the time, most Americans believed that they deserved success. For example; a nice house, a good job, plenty to eat, and many consumer goods. The act of 'consuming' was seen as very American, this had a huge impact on powering economic growth in the 1920s. References GCSE Modern World History Second Edition - Ben Walsh 1920s in the United States Economy of the United States\n",
      "Summarized Text: ['Below is a table in which the population growth in millions is shown in the 40 years after the 1920s: Below is a table which shows the urban growth in the six largest cities by population, in 1870 and 1910: The First World War During the First World War, the USA was selling metal to Britain and France, and also weapons.', 'The Republican Party believed that low taxes would make people keep their money and spend it on American-made products and put money into American industries.']\n",
      "\n",
      "Original Text: The Tata Institute of Fundamental Research (TIFR) is a research organization in India. It is for studies in mathematics and science. It is located in Mumbai. TIFR was started by Jenhangir Ratanji Dadabhoy Tata. It is now government funded. This institute has various departments like physics, chemistry, astronomy, and mathematics. One of its founding members was physicist Homi Bhabha. It was inaugurated by Prime Minister Sri Jawaharlal Nehru. Professors in this organization are recruited from institutes including the Illinois Institute of Technology. References Research organizations in Asia Mumbai 1945 establishments in Asia 1940s establishments in India Organizations based in India\n",
      "Summarized Text: ['References Research organizations in Asia Mumbai 1945 establishments in Asia 1940s establishments in India Organizations based in India', 'The Tata Institute of Fundamental Research (TIFR) is a research organization in India.']\n",
      "\n",
      "Original Text: Brian Patrick Wilson (born March 16, 1982) is an American baseball player. He was born in Winchester, Massachusetts and grew up in Londonderry, New Hampshire. He played college baseball at Louisiana State University. He was drafted by the San Francisco Giants in 2003 and has played his whole career in the Giants system. He started playing with the Giants in 2006 and became their closer (a pitcher who pitches the ninth inning of the game) in 2008. He has been named an All-Star three times in 2008, 2010 and 2011. In the 2010 season, he starting growing a beard, which he kept after the Giants won the World Series. He led the league in saves in 2010. In 2011, he started slowly, but had 25 saves and six wins before the All-Star break. Due to his beard and his personality, Wilson appeared on many talk shows and commercials, including for MLB 2K11. 1982 births Living people Sportspeople from New Hampshire San Francisco Giants players National League All-Stars People from Winchester, Massachusetts Sportspeople from Massachusetts\n",
      "Summarized Text: ['1982 births Living people Sportspeople from New Hampshire San Francisco Giants players National League All-Stars People from Winchester, Massachusetts Sportspeople from Massachusetts', 'He was born in Winchester, Massachusetts and grew up in Londonderry, New Hampshire.']\n",
      "\n"
     ]
    }
   ],
   "source": [
    "# Top 2\n",
    "for text in texts:\n",
    "    summary = summarize_text(text, filtered_words, top_n=2)\n",
    "    print(\"Original Text:\", text)\n",
    "    print(\"Summarized Text:\", summary)\n",
    "    print()"
   ]
  },
  {
   "cell_type": "code",
   "execution_count": 20,
   "metadata": {},
   "outputs": [
    {
     "name": "stdout",
     "output_type": "stream",
     "text": [
      "Original Text: The economy of the USA grew quickly in the 1920s. This growth in the 1920s had a positive effect on the USA in later years. The country's main commercial rivals had been devastated by WWI which was fought almost entirely in Europe. Germany, Britain, France, and the Low Countries were all economically weakened. Natural resources and a growing population The USA has many natural resources. For example, there is oil in Texas, coal in the Appalachian Mountains, and ranching in the Midwest and Great Plains. This meant there was no need to buy natural resources from other countries. Moreover the population of the USA was growing fast, so making a market for natural resources inside the USA. Below is a table in which the population growth in millions is shown in the 40 years after the 1920s: Below is a table which shows the urban growth in the six largest cities by population, in 1870 and 1910: The First World War During the First World War, the USA was selling metal to Britain and France, and also weapons. The USA made a lot of money from this. Also, the USA took over Europe's international trade and became the world leader in manufacturing of chemical, explosives, and plastics. This was good for the US economy. However, the Spanish flu was worldwide, and affected all countries. Spanish flu The Spanish flu pandemic lasted from 1918 to 1920. It killed between 17 million and 100 million people. Symptoms in 1918 were so unusual that initially influenza was misdiagnosed as dengue, cholera, or typhoid. One observer wrote \"One of the most striking of the complications was haemorhage from mucous membranes, especially from the nose, stomach, and intestine\". Most deaths were from bacterial pneumonia, a secondary infection caused by influenza. The virus also killed people directly. It caused hemorrhages and oedema in the lungs. The Spanish flu pandemic was truly global, spreading even to the Arctic and remote Pacific islands. The unusually severe disease killed between 10 and 20% of those infected, as opposed to the more usual flu epidemic mortality rate of 0.1%. Republican Party Policies The Republican Party at the time had policies which were very useful for a large economic growth: 1. The Republicans had a 'laissez-faire' way of thinking, which meant that the government would not stand in the way of people's lives and businesses. The Republican Party believed that this would create much profit, and it did. 2. The Republicans made 'tariffs', which meant that it cost a lot of money to buy products from other countries. This protected American businessmen from foreign competition. This also made the American people buy American-made products. 3. The Republicans lowered taxes, which was good for normal people, and even better for rich people. The Republican Party believed that low taxes would make people keep their money and spend it on American-made products and put money into American industries. 4. The Republicans allowed 'trusts'. Trusts were very large corporations, or businesses, which controlled almost all of a certain industry. Many people did not like these trusts as they did not want one corporation to control an entire industry, but the Republican Party said that a corporation would do business better than a politician. These trusts were very important in causing this economic growth. There were also problems with the policies. During the 1920s, much of the wealth in the United States was controlled by only a few people. Also, farmers and other people who worked in the business of farming found it very difficult to make money and were therefore very poor. New industries, new methods There were new industries, and new ways of managing industries. For example, products such as telephones, radios, vacuum cleaners, washing machines, and others were being made on a large scale, at an affordable price. Effective advertising was also invented for many products. One large industry in the 1920s was the motorcar industry. They was made on a production line, which was a relatively new idea at the time. The idea was first developed in the steel industry, and adopted by Henry Ford for his car industry. By the year 1929, 4.8 million cars had been made. Hoover (vacuum cleaners) became a household name. The biggest growth was in radios. In 1920, there were 60,000 radios sold. By 1929, it was 10 million. The 20s decade saw the large-scale development and use of automobiles, telephones, films, radio, and electrical appliances in the lives of millions in the United States. Most of Western Europe followed these events, but their economies were so damaged by WWI. It was many years (in effect, the 1960s and 70s) before ordinary people got telephones in their own homes. The American way of life At the time, most Americans believed that they deserved success. For example; a nice house, a good job, plenty to eat, and many consumer goods. The act of 'consuming' was seen as very American, this had a huge impact on powering economic growth in the 1920s. References GCSE Modern World History Second Edition - Ben Walsh 1920s in the United States Economy of the United States\n",
      "Summarized Text: ['Below is a table in which the population growth in millions is shown in the 40 years after the 1920s: Below is a table which shows the urban growth in the six largest cities by population, in 1870 and 1910: The First World War During the First World War, the USA was selling metal to Britain and France, and also weapons.', 'The Republican Party believed that low taxes would make people keep their money and spend it on American-made products and put money into American industries.', 'Many people did not like these trusts as they did not want one corporation to control an entire industry, but the Republican Party said that a corporation would do business better than a politician.']\n",
      "\n",
      "Original Text: The Tata Institute of Fundamental Research (TIFR) is a research organization in India. It is for studies in mathematics and science. It is located in Mumbai. TIFR was started by Jenhangir Ratanji Dadabhoy Tata. It is now government funded. This institute has various departments like physics, chemistry, astronomy, and mathematics. One of its founding members was physicist Homi Bhabha. It was inaugurated by Prime Minister Sri Jawaharlal Nehru. Professors in this organization are recruited from institutes including the Illinois Institute of Technology. References Research organizations in Asia Mumbai 1945 establishments in Asia 1940s establishments in India Organizations based in India\n",
      "Summarized Text: ['References Research organizations in Asia Mumbai 1945 establishments in Asia 1940s establishments in India Organizations based in India', 'The Tata Institute of Fundamental Research (TIFR) is a research organization in India.', 'TIFR was started by Jenhangir Ratanji Dadabhoy Tata.']\n",
      "\n",
      "Original Text: Brian Patrick Wilson (born March 16, 1982) is an American baseball player. He was born in Winchester, Massachusetts and grew up in Londonderry, New Hampshire. He played college baseball at Louisiana State University. He was drafted by the San Francisco Giants in 2003 and has played his whole career in the Giants system. He started playing with the Giants in 2006 and became their closer (a pitcher who pitches the ninth inning of the game) in 2008. He has been named an All-Star three times in 2008, 2010 and 2011. In the 2010 season, he starting growing a beard, which he kept after the Giants won the World Series. He led the league in saves in 2010. In 2011, he started slowly, but had 25 saves and six wins before the All-Star break. Due to his beard and his personality, Wilson appeared on many talk shows and commercials, including for MLB 2K11. 1982 births Living people Sportspeople from New Hampshire San Francisco Giants players National League All-Stars People from Winchester, Massachusetts Sportspeople from Massachusetts\n",
      "Summarized Text: ['1982 births Living people Sportspeople from New Hampshire San Francisco Giants players National League All-Stars People from Winchester, Massachusetts Sportspeople from Massachusetts', 'He was born in Winchester, Massachusetts and grew up in Londonderry, New Hampshire.', 'He was drafted by the San Francisco Giants in 2003 and has played his whole career in the Giants system.']\n",
      "\n"
     ]
    }
   ],
   "source": [
    "# Top 3\n",
    "for text in texts:\n",
    "    summary = summarize_text(text, filtered_words, top_n=3)\n",
    "    print(\"Original Text:\", text)\n",
    "    print(\"Summarized Text:\", summary)\n",
    "    print()"
   ]
  }
 ],
 "metadata": {
  "kernelspec": {
   "display_name": ".venv",
   "language": "python",
   "name": "python3"
  },
  "language_info": {
   "codemirror_mode": {
    "name": "ipython",
    "version": 3
   },
   "file_extension": ".py",
   "mimetype": "text/x-python",
   "name": "python",
   "nbconvert_exporter": "python",
   "pygments_lexer": "ipython3",
   "version": "3.9.19"
  }
 },
 "nbformat": 4,
 "nbformat_minor": 2
}
